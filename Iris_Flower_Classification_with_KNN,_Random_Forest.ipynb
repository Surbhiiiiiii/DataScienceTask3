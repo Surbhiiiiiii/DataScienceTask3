{
  "metadata": {
    "kernelspec": {
      "display_name": "Python 3 (ipykernel)",
      "language": "python",
      "name": "python3"
    },
    "language_info": {
      "name": "python",
      "version": "3.10.12",
      "mimetype": "text/x-python",
      "codemirror_mode": {
        "name": "ipython",
        "version": 3
      },
      "pygments_lexer": "ipython3",
      "nbconvert_exporter": "python",
      "file_extension": ".py"
    },
    "editor": "DataLab",
    "kaggle": {
      "accelerator": "none",
      "dataSources": [],
      "dockerImageVersionId": 30746,
      "isInternetEnabled": false,
      "language": "python",
      "sourceType": "notebook",
      "isGpuEnabled": false
    },
    "colab": {
      "name": "Iris Flower Classification with KNN, Random Forest",
      "provenance": []
    }
  },
  "nbformat_minor": 0,
  "nbformat": 4,
  "cells": [
    {
      "cell_type": "code",
      "source": [
        "#KNN"
      ],
      "metadata": {
        "executionCancelledAt": null,
        "executionTime": 10,
        "lastExecutedAt": 1721594479152,
        "lastExecutedByKernel": "45aa2e52-5697-4a47-9366-8a11bdf477cb",
        "lastScheduledRunId": null,
        "lastSuccessfullyExecutedCode": "#KNN",
        "id": "6NUdXTqGTPRQ"
      },
      "execution_count": null,
      "outputs": []
    },
    {
      "cell_type": "code",
      "source": [
        "# Import libraries\n",
        "import pandas as pd\n",
        "from sklearn.datasets import load_iris\n",
        "\n",
        "# Load the iris dataset\n",
        "iris_dataset = load_iris()\n",
        "\n",
        "# Display the feature names of the iris dataset\n",
        "iris_dataset.feature_names"
      ],
      "metadata": {
        "executionCancelledAt": null,
        "executionTime": 52,
        "lastExecutedAt": 1721594479204,
        "lastExecutedByKernel": "45aa2e52-5697-4a47-9366-8a11bdf477cb",
        "lastScheduledRunId": null,
        "lastSuccessfullyExecutedCode": "# Import libraries\nimport pandas as pd\nfrom sklearn.datasets import load_iris \n\n# Load the iris dataset\niris_dataset = load_iris() \n\n# Display the feature names of the iris dataset\niris_dataset.feature_names",
        "id": "tim7FvOoTPRS"
      },
      "execution_count": null,
      "outputs": []
    },
    {
      "cell_type": "code",
      "source": [
        "# Display target names of iris dataset\n",
        "iris_dataset.target_names"
      ],
      "metadata": {
        "executionCancelledAt": null,
        "executionTime": 51,
        "lastExecutedAt": 1721594479255,
        "lastExecutedByKernel": "45aa2e52-5697-4a47-9366-8a11bdf477cb",
        "lastScheduledRunId": null,
        "lastSuccessfullyExecutedCode": "# Display target names of iris dataset\niris_dataset.target_names",
        "id": "nitbOzn2TPRS"
      },
      "execution_count": null,
      "outputs": []
    },
    {
      "cell_type": "code",
      "source": [
        "# Create a DataFrame from iris dataset\n",
        "df = pd.DataFrame(iris_dataset.data, columns=iris_dataset.feature_names)\n",
        "\n",
        "# Display some rows of the DataFrame\n",
        "df.head()"
      ],
      "metadata": {
        "executionCancelledAt": null,
        "executionTime": 61,
        "lastExecutedAt": 1721594479316,
        "lastExecutedByKernel": "45aa2e52-5697-4a47-9366-8a11bdf477cb",
        "lastScheduledRunId": null,
        "lastSuccessfullyExecutedCode": "# Create a DataFrame from iris dataset\ndf = pd.DataFrame(iris_dataset.data, columns=iris_dataset.feature_names) \n\n# Display some rows of the DataFrame\ndf.head()",
        "outputsMetadata": {
          "0": {
            "height": 194,
            "type": "dataFrame"
          }
        },
        "id": "WdyIexgwTPRT"
      },
      "execution_count": null,
      "outputs": []
    },
    {
      "cell_type": "code",
      "source": [
        "# Add target column to the DataFrame\n",
        "df['target'] = iris_dataset.target\n",
        "df.head()"
      ],
      "metadata": {
        "executionCancelledAt": null,
        "executionTime": 56,
        "lastExecutedAt": 1721594479372,
        "lastExecutedByKernel": "45aa2e52-5697-4a47-9366-8a11bdf477cb",
        "lastScheduledRunId": null,
        "lastSuccessfullyExecutedCode": "# Add target column to the DataFrame\ndf['target'] = iris_dataset.target \ndf.head()",
        "outputsMetadata": {
          "0": {
            "height": 194,
            "type": "dataFrame"
          }
        },
        "id": "MBB2z0XMTPRT"
      },
      "execution_count": null,
      "outputs": []
    },
    {
      "cell_type": "code",
      "source": [
        "# Map target values to flower names and add as a new column\n",
        "df['flower_name'] = df.target.apply(lambda x: iris_dataset.target_names[x])\n",
        "df.head(10)"
      ],
      "metadata": {
        "executionCancelledAt": null,
        "executionTime": 63,
        "lastExecutedAt": 1721594479435,
        "lastExecutedByKernel": "45aa2e52-5697-4a47-9366-8a11bdf477cb",
        "lastScheduledRunId": null,
        "lastSuccessfullyExecutedCode": "# Map target values to flower names and add as a new column\ndf['flower_name'] = df.target.apply(lambda x: iris_dataset.target_names[x]) \ndf.head(10)",
        "outputsMetadata": {
          "0": {
            "height": 335,
            "type": "dataFrame"
          }
        },
        "id": "pWipwO5iTPRT"
      },
      "execution_count": null,
      "outputs": []
    },
    {
      "cell_type": "code",
      "source": [
        "# Display the first few rows where the target is 1 (versicolor)\n",
        "df[df.target==1].head()"
      ],
      "metadata": {
        "executionCancelledAt": null,
        "executionTime": 63,
        "lastExecutedAt": 1721594479499,
        "lastExecutedByKernel": "45aa2e52-5697-4a47-9366-8a11bdf477cb",
        "lastScheduledRunId": null,
        "lastSuccessfullyExecutedCode": "# Display the first few rows where the target is 1 (versicolor)\ndf[df.target==1].head()",
        "outputsMetadata": {
          "0": {
            "height": 211,
            "type": "dataFrame"
          }
        },
        "id": "jTB6hZQeTPRT"
      },
      "execution_count": null,
      "outputs": []
    },
    {
      "cell_type": "code",
      "source": [
        "# Display rows 45 to 54 of DataFrame\n",
        "df[45:55]"
      ],
      "metadata": {
        "executionCancelledAt": null,
        "executionTime": 60,
        "lastExecutedAt": 1721594479559,
        "lastExecutedByKernel": "45aa2e52-5697-4a47-9366-8a11bdf477cb",
        "lastScheduledRunId": null,
        "lastSuccessfullyExecutedCode": "# Display rows 45 to 54 of DataFrame\ndf[45:55]",
        "outputsMetadata": {
          "0": {
            "height": 335,
            "type": "dataFrame"
          }
        },
        "id": "0iYS8YsETPRU"
      },
      "execution_count": null,
      "outputs": []
    },
    {
      "cell_type": "code",
      "source": [
        "df0 = df[:50]\n",
        "df1 = df[50:100]\n",
        "df2 = df[100:]"
      ],
      "metadata": {
        "executionCancelledAt": null,
        "executionTime": 48,
        "lastExecutedAt": 1721594479607,
        "lastExecutedByKernel": "45aa2e52-5697-4a47-9366-8a11bdf477cb",
        "lastScheduledRunId": null,
        "lastSuccessfullyExecutedCode": "df0 = df[:50]\ndf1 = df[50:100]\ndf2 = df[100:]",
        "id": "H1Iin3AbTPRU"
      },
      "execution_count": null,
      "outputs": []
    },
    {
      "cell_type": "code",
      "source": [
        "import matplotlib.pyplot as plt\n",
        "\n",
        "# Set labels for x and y axes\n",
        "plt.xlabel('Sepal Length')\n",
        "plt.ylabel('Sepal Width')\n",
        "\n",
        "# Plot scatter plot for each subset of the DataFrame with different colors and markers\n",
        "plt.scatter(df0['sepal length (cm)'], df0['sepal width (cm)'], color=\"green\", marker='+', label='Setosa')\n",
        "\n",
        "plt.scatter(df1['sepal length (cm)'], df1['sepal width (cm)'], color=\"blue\", marker='^', label='Versicolor')\n",
        "\n",
        "plt.scatter(df2['sepal length (cm)'], df2['sepal width (cm)'], color=\"red\", marker='*', label='Virginica')\n",
        "\n",
        "# Add legend to the plot to differentiate between species\n",
        "plt.legend()"
      ],
      "metadata": {
        "executionCancelledAt": null,
        "executionTime": 296,
        "lastExecutedAt": 1721594479903,
        "lastExecutedByKernel": "45aa2e52-5697-4a47-9366-8a11bdf477cb",
        "lastScheduledRunId": null,
        "lastSuccessfullyExecutedCode": "import matplotlib.pyplot as plt\n\n# Set labels for x and y axes\nplt.xlabel('Sepal Length')\nplt.ylabel('Sepal Width')\n\n# Plot scatter plot for each subset of the DataFrame with different colors and markers\nplt.scatter(df0['sepal length (cm)'], df0['sepal width (cm)'], color=\"green\", marker='+', label='Setosa')\n\nplt.scatter(df1['sepal length (cm)'], df1['sepal width (cm)'], color=\"blue\", marker='^', label='Versicolor')\n\nplt.scatter(df2['sepal length (cm)'], df2['sepal width (cm)'], color=\"red\", marker='*', label='Virginica')\n\n# Add legend to the plot to differentiate between species\nplt.legend()",
        "id": "d5Y2JhpSTPRU"
      },
      "execution_count": null,
      "outputs": []
    },
    {
      "cell_type": "code",
      "source": [
        "# Set labels for x and y axes to Petal Length and Petal Width\n",
        "plt.xlabel('Petal Length')\n",
        "plt.ylabel('Petal Width')\n",
        "\n",
        "plt.scatter(df0['petal length (cm)'], df0['petal width (cm)'], color=\"green\", marker='+')\n",
        "\n",
        "plt.scatter(df1['petal length (cm)'], df1['petal width (cm)'], color=\"blue\", marker='^')\n",
        "\n",
        "plt.scatter(df2['petal length (cm)'], df2['petal width (cm)'], color=\"red\", marker='*')"
      ],
      "metadata": {
        "executionCancelledAt": null,
        "executionTime": 274,
        "lastExecutedAt": 1721594480177,
        "lastExecutedByKernel": "45aa2e52-5697-4a47-9366-8a11bdf477cb",
        "lastScheduledRunId": null,
        "lastSuccessfullyExecutedCode": "# Set labels for x and y axes to Petal Length and Petal Width\nplt.xlabel('Petal Length')\nplt.ylabel('Petal Width')\n\nplt.scatter(df0['petal length (cm)'], df0['petal width (cm)'], color=\"green\", marker='+')\n\nplt.scatter(df1['petal length (cm)'], df1['petal width (cm)'], color=\"blue\", marker='^')\n\nplt.scatter(df2['petal length (cm)'], df2['petal width (cm)'], color=\"red\", marker='*')",
        "id": "CFrDQ_UyTPRU"
      },
      "execution_count": null,
      "outputs": []
    },
    {
      "cell_type": "code",
      "source": [
        "from sklearn.model_selection import train_test_split\n",
        "\n",
        "# Drop the target and flower_name columns to create feature set\n",
        "x = df.drop(['target', 'flower_name'], axis='columns')\n",
        "\n",
        "# Define the target variable\n",
        "y = df.target\n",
        "\n",
        "# Split the dataset into training and testing sets\n",
        "# test_size=0.3 means 30% of the data will be used for testing, and 70% for training\n",
        "# random_state=42 ensures reproducibility of the split by setting a seed for the random number generator\n",
        "X_train, X_test, y_train, y_test = train_test_split(x, y, test_size=0.3, random_state=42)"
      ],
      "metadata": {
        "executionCancelledAt": null,
        "executionTime": 50,
        "lastExecutedAt": 1721594480227,
        "lastExecutedByKernel": "45aa2e52-5697-4a47-9366-8a11bdf477cb",
        "lastScheduledRunId": null,
        "lastSuccessfullyExecutedCode": "from sklearn.model_selection import train_test_split\n\n# Drop the target and flower_name columns to create feature set\nx = df.drop(['target', 'flower_name'], axis='columns')\n\n# Define the target variable\ny = df.target\n\n# Split the dataset into training and testing sets\n# test_size=0.3 means 30% of the data will be used for testing, and 70% for training\n# random_state=42 ensures reproducibility of the split by setting a seed for the random number generator\nX_train, X_test, y_train, y_test = train_test_split(x, y, test_size=0.3, random_state=42)",
        "id": "oiiNVZzcTPRU"
      },
      "execution_count": null,
      "outputs": []
    },
    {
      "cell_type": "code",
      "source": [
        "from sklearn.neighbors import KNeighborsClassifier\n",
        "\n",
        "# Initialize K-Nearest Neighbors classifier with 3 neighbors\n",
        "knn = KNeighborsClassifier(n_neighbors=3)"
      ],
      "metadata": {
        "executionCancelledAt": null,
        "executionTime": 47,
        "lastExecutedAt": 1721594480275,
        "lastExecutedByKernel": "45aa2e52-5697-4a47-9366-8a11bdf477cb",
        "lastScheduledRunId": null,
        "lastSuccessfullyExecutedCode": "from sklearn.neighbors import KNeighborsClassifier \n\n# Initialize K-Nearest Neighbors classifier with 3 neighbors\nknn = KNeighborsClassifier(n_neighbors=3)",
        "id": "KPSWgiz1TPRU"
      },
      "execution_count": null,
      "outputs": []
    },
    {
      "cell_type": "code",
      "source": [
        "# Train the K-Nearest Neighbors classifier using the training data\n",
        "knn.fit(X_train, y_train)"
      ],
      "metadata": {
        "executionCancelledAt": null,
        "executionTime": 57,
        "lastExecutedAt": 1721594480332,
        "lastExecutedByKernel": "45aa2e52-5697-4a47-9366-8a11bdf477cb",
        "lastScheduledRunId": null,
        "lastSuccessfullyExecutedCode": "# Train the K-Nearest Neighbors classifier using the training data\nknn.fit(X_train, y_train)",
        "id": "IaTr7rZ-TPRV"
      },
      "execution_count": null,
      "outputs": []
    },
    {
      "cell_type": "code",
      "source": [
        "# Evaluate the accuracy of the K-Nearest Neighbors classifier on the test data\n",
        "knn.score(X_test, y_test)"
      ],
      "metadata": {
        "executionCancelledAt": null,
        "executionTime": 56,
        "lastExecutedAt": 1721594480388,
        "lastExecutedByKernel": "45aa2e52-5697-4a47-9366-8a11bdf477cb",
        "lastScheduledRunId": null,
        "lastSuccessfullyExecutedCode": "# Evaluate the accuracy of the K-Nearest Neighbors classifier on the test data\nknn.score(X_test, y_test)",
        "id": "j-FduSkfTPRV"
      },
      "execution_count": null,
      "outputs": []
    },
    {
      "cell_type": "markdown",
      "source": [],
      "metadata": {
        "id": "D85hqDgETPRV"
      }
    },
    {
      "cell_type": "code",
      "source": [
        "from sklearn.metrics import confusion_matrix\n",
        "\n",
        "# Predict the target values for the test set\n",
        "y_pred = knn.predict(X_test)\n",
        "\n",
        "# Compute the confusion matrix to evaluate the accuracy of the classification\n",
        "cm = confusion_matrix(y_test, y_pred)\n",
        "\n",
        "# Display the confusion matrix\n",
        "cm"
      ],
      "metadata": {
        "executionCancelledAt": null,
        "executionTime": 56,
        "lastExecutedAt": 1721594480444,
        "lastExecutedByKernel": "45aa2e52-5697-4a47-9366-8a11bdf477cb",
        "lastScheduledRunId": null,
        "lastSuccessfullyExecutedCode": "from sklearn.metrics import confusion_matrix\n\n# Predict the target values for the test set\ny_pred = knn.predict(X_test)\n\n# Compute the confusion matrix to evaluate the accuracy of the classification\ncm = confusion_matrix(y_test, y_pred)\n\n# Display the confusion matrix\ncm",
        "id": "2VXpP5o1TPRW"
      },
      "execution_count": null,
      "outputs": []
    },
    {
      "cell_type": "code",
      "source": [
        "import seaborn as sn\n",
        "\n",
        "# Set the figure size for the heatmap\n",
        "plt.figure(figsize=(10,5))\n",
        "\n",
        "# Create a heatmap to visualize the confusion matrix\n",
        "sn.heatmap(cm, annot=True)\n",
        "\n",
        "# Set the labels for the x and y axes\n",
        "plt.xlabel('Predicted', fontsize=15)\n",
        "plt.ylabel('Truth', fontsize=15)"
      ],
      "metadata": {
        "executionCancelledAt": null,
        "executionTime": 298,
        "lastExecutedAt": 1721594480742,
        "lastExecutedByKernel": "45aa2e52-5697-4a47-9366-8a11bdf477cb",
        "lastScheduledRunId": null,
        "lastSuccessfullyExecutedCode": "import seaborn as sn\n\n# Set the figure size for the heatmap\nplt.figure(figsize=(10,5))\n\n# Create a heatmap to visualize the confusion matrix\nsn.heatmap(cm, annot=True)\n\n# Set the labels for the x and y axes\nplt.xlabel('Predicted', fontsize=15)\nplt.ylabel('Truth', fontsize=15)",
        "id": "Eu4jtigOTPRW"
      },
      "execution_count": null,
      "outputs": []
    },
    {
      "cell_type": "code",
      "source": [
        "from sklearn.metrics import classification_report\n",
        "\n",
        "# Generate and display the classification report\n",
        "classification_report(y_test, y_pred)"
      ],
      "metadata": {
        "executionCancelledAt": null,
        "executionTime": 54,
        "lastExecutedAt": 1721594480796,
        "lastExecutedByKernel": "45aa2e52-5697-4a47-9366-8a11bdf477cb",
        "lastScheduledRunId": null,
        "lastSuccessfullyExecutedCode": "from sklearn.metrics import classification_report\n\n# Generate and display the classification report\nclassification_report(y_test, y_pred)",
        "outputsMetadata": {
          "0": {
            "height": 227,
            "type": "stream"
          }
        },
        "id": "LotOT8uoTPRW"
      },
      "execution_count": null,
      "outputs": []
    },
    {
      "cell_type": "code",
      "source": [],
      "metadata": {
        "executionCancelledAt": null,
        "executionTime": 47,
        "lastExecutedAt": 1721594480843,
        "lastExecutedByKernel": "45aa2e52-5697-4a47-9366-8a11bdf477cb",
        "lastScheduledRunId": null,
        "lastSuccessfullyExecutedCode": "",
        "id": "UzzAI08YTPRW"
      },
      "execution_count": null,
      "outputs": []
    },
    {
      "cell_type": "code",
      "source": [],
      "metadata": {
        "executionCancelledAt": null,
        "executionTime": 47,
        "lastExecutedAt": 1721594480891,
        "lastExecutedByKernel": "45aa2e52-5697-4a47-9366-8a11bdf477cb",
        "lastScheduledRunId": null,
        "lastSuccessfullyExecutedCode": "",
        "id": "GZigCGaCTPRW"
      },
      "execution_count": null,
      "outputs": []
    },
    {
      "cell_type": "code",
      "source": [
        "#DECISION TREE"
      ],
      "metadata": {
        "executionCancelledAt": null,
        "executionTime": 47,
        "lastExecutedAt": 1721594480939,
        "lastExecutedByKernel": "45aa2e52-5697-4a47-9366-8a11bdf477cb",
        "lastScheduledRunId": null,
        "lastSuccessfullyExecutedCode": "#DECISION TREE",
        "id": "8O54bDo4TPRW"
      },
      "execution_count": null,
      "outputs": []
    },
    {
      "cell_type": "code",
      "source": [
        "# Import libraries\n",
        "import numpy as np\n",
        "import matplotlib.pyplot as plt\n",
        "from sklearn.datasets import load_iris\n",
        "from sklearn.model_selection import train_test_split\n",
        "from sklearn.tree import DecisionTreeClassifier, plot_tree\n",
        "from sklearn.metrics import accuracy_score"
      ],
      "metadata": {
        "executionCancelledAt": null,
        "executionTime": 51,
        "lastExecutedAt": 1721594480991,
        "lastExecutedByKernel": "45aa2e52-5697-4a47-9366-8a11bdf477cb",
        "lastScheduledRunId": null,
        "lastSuccessfullyExecutedCode": "# Import libraries\nimport numpy as np\nimport matplotlib.pyplot as plt\nfrom sklearn.datasets import load_iris\nfrom sklearn.model_selection import train_test_split\nfrom sklearn.tree import DecisionTreeClassifier, plot_tree\nfrom sklearn.metrics import accuracy_score",
        "id": "_OwrBJFtTPRW"
      },
      "execution_count": null,
      "outputs": []
    },
    {
      "cell_type": "code",
      "source": [
        "# Load the iris dataset\n",
        "iris = load_iris()\n",
        "\n",
        "# Extract features and target variables\n",
        "X = iris.data\n",
        "y = iris.target\n",
        "\n",
        "# Get feature names and target names\n",
        "feature_names = iris.feature_names\n",
        "target_names = iris.target_names"
      ],
      "metadata": {
        "executionCancelledAt": null,
        "executionTime": 51,
        "lastExecutedAt": 1721594481043,
        "lastExecutedByKernel": "45aa2e52-5697-4a47-9366-8a11bdf477cb",
        "lastScheduledRunId": null,
        "lastSuccessfullyExecutedCode": "# Load the iris dataset\niris = load_iris()\n\n# Extract features and target variables\nX = iris.data\ny = iris.target\n\n# Get feature names and target names\nfeature_names = iris.feature_names\ntarget_names = iris.target_names",
        "id": "i19_ELqRTPRW"
      },
      "execution_count": null,
      "outputs": []
    },
    {
      "cell_type": "code",
      "source": [
        "# Split the dataset into training and testing sets\n",
        "# 80% of the data will be used for training and 20% for testing\n",
        "# random_state=42 ensures reproducibility of the split\n",
        "X_train, X_test, y_train, y_test = train_test_split(X, y, test_size=0.2, random_state=42)"
      ],
      "metadata": {
        "executionCancelledAt": null,
        "executionTime": 51,
        "lastExecutedAt": 1721594481095,
        "lastExecutedByKernel": "45aa2e52-5697-4a47-9366-8a11bdf477cb",
        "lastScheduledRunId": null,
        "lastSuccessfullyExecutedCode": "# Split the dataset into training and testing sets\nX_train, X_test, y_train, y_test = train_test_split(X, y, test_size=0.2, random_state=42)",
        "id": "TeduAZPGTPRX"
      },
      "execution_count": null,
      "outputs": []
    },
    {
      "cell_type": "code",
      "source": [
        "dt = DecisionTreeClassifier()"
      ],
      "metadata": {
        "executionCancelledAt": null,
        "executionTime": 52,
        "lastExecutedAt": 1721594481147,
        "lastExecutedByKernel": "45aa2e52-5697-4a47-9366-8a11bdf477cb",
        "lastScheduledRunId": null,
        "lastSuccessfullyExecutedCode": "dt = DecisionTreeClassifier()",
        "id": "NkgdHQPeTPRX"
      },
      "execution_count": null,
      "outputs": []
    },
    {
      "cell_type": "code",
      "source": [
        "dt.fit(X_train, y_train)"
      ],
      "metadata": {
        "executionCancelledAt": null,
        "executionTime": 52,
        "lastExecutedAt": 1721594481200,
        "lastExecutedByKernel": "45aa2e52-5697-4a47-9366-8a11bdf477cb",
        "lastScheduledRunId": null,
        "lastSuccessfullyExecutedCode": "dt.fit(X_train, y_train)",
        "id": "W6vkydc3TPRX"
      },
      "execution_count": null,
      "outputs": []
    },
    {
      "cell_type": "code",
      "source": [
        "# Predict the target values for the test set using the trained Decision Tree model\n",
        "y_pred_dt = dt.predict(X_test)\n",
        "y_pred_dt"
      ],
      "metadata": {
        "executionCancelledAt": null,
        "executionTime": 47,
        "lastExecutedAt": 1721594481247,
        "lastExecutedByKernel": "45aa2e52-5697-4a47-9366-8a11bdf477cb",
        "lastScheduledRunId": null,
        "lastSuccessfullyExecutedCode": "# Predict the target values for the test set using the trained Decision Tree model\ny_pred_dt = dt.predict(X_test)\ny_pred_dt",
        "id": "tbnFO2nwTPRX"
      },
      "execution_count": null,
      "outputs": []
    },
    {
      "cell_type": "code",
      "source": [
        "# Calculate and display the accuracy of the Decision Tree model\n",
        "print(f\"Decision Tree Accuracy: {accuracy_score(y_test, y_pred_dt):.2f}\")"
      ],
      "metadata": {
        "executionCancelledAt": null,
        "executionTime": 53,
        "lastExecutedAt": 1721594481300,
        "lastExecutedByKernel": "45aa2e52-5697-4a47-9366-8a11bdf477cb",
        "lastScheduledRunId": null,
        "lastSuccessfullyExecutedCode": "# Calculate and display the accuracy of the Decision Tree model\nprint(f\"Decision Tree Accuracy: {accuracy_score(y_test, y_pred_dt):.2f}\")",
        "outputsMetadata": {
          "0": {
            "height": 38,
            "type": "stream"
          }
        },
        "id": "2A5V-8i_TPRX"
      },
      "execution_count": null,
      "outputs": []
    },
    {
      "cell_type": "code",
      "source": [
        "# Plot the decision tree with feature and class names\n",
        "plt.figure(figsize=(15,10))  # Set the size of the plot\n",
        "plot_tree(dt, filled=True, feature_names=feature_names, class_names=target_names)  # Plot the decision tree with filled nodes, feature names, and class names\n",
        "plt.title('Decision Tree', fontsize=30)  # Set the title of the plot with a font size of 30\n",
        "plt.show()  # Display the plot"
      ],
      "metadata": {
        "executionCancelledAt": null,
        "executionTime": 883,
        "lastExecutedAt": 1721594482183,
        "lastExecutedByKernel": "45aa2e52-5697-4a47-9366-8a11bdf477cb",
        "lastScheduledRunId": null,
        "lastSuccessfullyExecutedCode": "plt.figure(figsize=(15,10))\nplot_tree(dt, filled=True, feature_names=feature_names, class_names=target_names)\nplt.title('Decision Tree',fontsize = 30)\nplt.show()",
        "id": "IHXwfD-TTPRX"
      },
      "execution_count": null,
      "outputs": []
    },
    {
      "cell_type": "code",
      "source": [],
      "metadata": {
        "executionCancelledAt": null,
        "executionTime": 48,
        "lastExecutedAt": 1721594482231,
        "lastExecutedByKernel": "45aa2e52-5697-4a47-9366-8a11bdf477cb",
        "lastScheduledRunId": null,
        "lastSuccessfullyExecutedCode": "",
        "id": "FIODx_vMTPRX"
      },
      "execution_count": null,
      "outputs": []
    },
    {
      "cell_type": "code",
      "source": [],
      "metadata": {
        "executionCancelledAt": null,
        "executionTime": 52,
        "lastExecutedAt": 1721594482283,
        "lastExecutedByKernel": "45aa2e52-5697-4a47-9366-8a11bdf477cb",
        "lastScheduledRunId": null,
        "lastSuccessfullyExecutedCode": "",
        "id": "BYxryfGPTPRX"
      },
      "execution_count": null,
      "outputs": []
    },
    {
      "cell_type": "code",
      "source": [
        "#RANDOM FOREST"
      ],
      "metadata": {
        "executionCancelledAt": null,
        "executionTime": 55,
        "lastExecutedAt": 1721594482339,
        "lastExecutedByKernel": "45aa2e52-5697-4a47-9366-8a11bdf477cb",
        "lastScheduledRunId": null,
        "lastSuccessfullyExecutedCode": "#RANDOM FOREST",
        "id": "yd1v95GiTPRX"
      },
      "execution_count": null,
      "outputs": []
    },
    {
      "cell_type": "code",
      "source": [
        "# Import the RandomForestClassifier from the sklearn.ensemble module\n",
        "from sklearn.ensemble import RandomForestClassifier"
      ],
      "metadata": {
        "executionCancelledAt": null,
        "executionTime": 47,
        "lastExecutedAt": 1721594482387,
        "lastExecutedByKernel": "45aa2e52-5697-4a47-9366-8a11bdf477cb",
        "lastScheduledRunId": null,
        "lastSuccessfullyExecutedCode": "from sklearn.ensemble import RandomForestClassifier",
        "id": "tka_5kw0TPRX"
      },
      "execution_count": null,
      "outputs": []
    },
    {
      "cell_type": "code",
      "source": [
        "# Initialize the Random Forest Classifier with 150 trees and a fixed random state for reproducibility\n",
        "rf = RandomForestClassifier(n_estimators=150, random_state=42)"
      ],
      "metadata": {
        "executionCancelledAt": null,
        "executionTime": 51,
        "lastExecutedAt": 1721594482439,
        "lastExecutedByKernel": "45aa2e52-5697-4a47-9366-8a11bdf477cb",
        "lastScheduledRunId": null,
        "lastSuccessfullyExecutedCode": "rf = RandomForestClassifier(n_estimators=150, random_state=42)",
        "id": "kCxaGPimTPRX"
      },
      "execution_count": null,
      "outputs": []
    },
    {
      "cell_type": "code",
      "source": [
        "rf.fit(X_train, y_train)"
      ],
      "metadata": {
        "executionCancelledAt": null,
        "executionTime": 167,
        "lastExecutedAt": 1721594482607,
        "lastExecutedByKernel": "45aa2e52-5697-4a47-9366-8a11bdf477cb",
        "lastScheduledRunId": null,
        "lastSuccessfullyExecutedCode": "rf.fit(X_train, y_train)",
        "id": "FhOKnrBPTPRY"
      },
      "execution_count": null,
      "outputs": []
    },
    {
      "cell_type": "code",
      "source": [
        "# Predict the target values for the test set using the trained Random Forest model\n",
        "y_pred_rf = rf.predict(X_test)\n",
        "\n",
        "y_pred_rf"
      ],
      "metadata": {
        "executionCancelledAt": null,
        "executionTime": 48,
        "lastExecutedAt": 1721594482655,
        "lastExecutedByKernel": "45aa2e52-5697-4a47-9366-8a11bdf477cb",
        "lastScheduledRunId": null,
        "lastSuccessfullyExecutedCode": "y_pred_rf = rf.predict(X_test)\ny_pred_rf",
        "id": "9BtwKsYZTPRY"
      },
      "execution_count": null,
      "outputs": []
    },
    {
      "cell_type": "code",
      "source": [
        "print(f\"Random Forest Accuracy: {accuracy_score(y_test, y_pred_rf):.2f}\")"
      ],
      "metadata": {
        "executionCancelledAt": null,
        "executionTime": 52,
        "lastExecutedAt": 1721594482707,
        "lastExecutedByKernel": "45aa2e52-5697-4a47-9366-8a11bdf477cb",
        "lastScheduledRunId": null,
        "lastSuccessfullyExecutedCode": "print(f\"Random Forest Accuracy: {accuracy_score(y_test, y_pred_rf):.2f}\")",
        "outputsMetadata": {
          "0": {
            "height": 38,
            "type": "stream"
          }
        },
        "id": "ziBGJSGCTPRY"
      },
      "execution_count": null,
      "outputs": []
    },
    {
      "cell_type": "code",
      "source": [],
      "metadata": {
        "executionCancelledAt": null,
        "executionTime": 49,
        "lastExecutedAt": 1721594482756,
        "lastExecutedByKernel": "45aa2e52-5697-4a47-9366-8a11bdf477cb",
        "lastScheduledRunId": null,
        "lastSuccessfullyExecutedCode": "",
        "id": "6YrjU0QPTPRY"
      },
      "execution_count": null,
      "outputs": []
    }
  ]
}